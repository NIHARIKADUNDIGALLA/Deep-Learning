{
 "cells": [
  {
   "cell_type": "raw",
   "id": "e1f369b2",
   "metadata": {},
   "source": [
    "1)Is it okay to initialize the bias terms to 0?\n",
    "Ans:It is important to note that setting biases to 0 will not create any problems as non-zero weights take care \n",
    "    of breaking the symmetry and even if bias is 0, the values in every neuron will still be different."
   ]
  },
  {
   "cell_type": "raw",
   "id": "3ba0aa34",
   "metadata": {},
   "source": [
    "2)Name  advantages of the ELU activation function over ReLU.\n",
    "Ans:ELU is a strong alternative to ReLU.ELU becomes smooth slowly.\n",
    "        "
   ]
  },
  {
   "cell_type": "raw",
   "id": "3caf5f3e",
   "metadata": {},
   "source": [
    "3)In which cases would you want to use softmax activation functions:\n",
    "Ans:The softmax function is often used as the last activation function of a neural network to normalize the output of a network to a probability distribution over predicted output classes."
   ]
  }
 ],
 "metadata": {
  "kernelspec": {
   "display_name": "Python 3 (ipykernel)",
   "language": "python",
   "name": "python3"
  },
  "language_info": {
   "codemirror_mode": {
    "name": "ipython",
    "version": 3
   },
   "file_extension": ".py",
   "mimetype": "text/x-python",
   "name": "python",
   "nbconvert_exporter": "python",
   "pygments_lexer": "ipython3",
   "version": "3.9.7"
  }
 },
 "nbformat": 4,
 "nbformat_minor": 5
}
