{
 "cells": [
  {
   "cell_type": "raw",
   "id": "b6de693d",
   "metadata": {},
   "source": [
    "1) What is the function of a summation junction of a neuron?\n",
    "Ans:It adds all the products of the synapses and parameters."
   ]
  },
  {
   "cell_type": "raw",
   "id": "09ff8ff5",
   "metadata": {},
   "source": [
    "2)What is a step function? \n",
    "Ans:It is a function used by the original Perceptron. "
   ]
  },
  {
   "cell_type": "raw",
   "id": "72c61d05",
   "metadata": {},
   "source": [
    "3)What is threshold activation function?\n",
    "Ans:It results in an output signal only when an input signal exceeding a specific threshold value comes as an input."
   ]
  }
 ],
 "metadata": {
  "kernelspec": {
   "display_name": "Python 3 (ipykernel)",
   "language": "python",
   "name": "python3"
  },
  "language_info": {
   "codemirror_mode": {
    "name": "ipython",
    "version": 3
   },
   "file_extension": ".py",
   "mimetype": "text/x-python",
   "name": "python",
   "nbconvert_exporter": "python",
   "pygments_lexer": "ipython3",
   "version": "3.9.7"
  }
 },
 "nbformat": 4,
 "nbformat_minor": 5
}
