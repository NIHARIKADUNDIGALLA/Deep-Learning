{
 "cells": [
  {
   "cell_type": "raw",
   "id": "9b782bf0",
   "metadata": {},
   "source": [
    "1)Name the advantages of the SELU activation function over ReLU.\n",
    "Ans:SELU does not have vanishing gradient problem .\n",
    "SELUs learn faster and better than other activation functions without needing further procession.\n",
    "\n"
   ]
  },
  {
   "cell_type": "raw",
   "id": "bc29d65b",
   "metadata": {},
   "source": [
    "2)Does dropout slow down training? \n",
    "Ans:A higher dropout rate would result in a higher variance to some of the layers, which also degrades training"
   ]
  },
  {
   "cell_type": "raw",
   "id": "9e8c4604",
   "metadata": {},
   "source": [
    "3)What may happen if you set the momentum hyperparameter too close to 1 (e.g., 0.99999) when using an SGD optimizer?\n",
    "Ans:The algorithm will likely pick up a lot of speed, hopefully moving roughly toward the global minimum, but its \n",
    "    momentum will carry it right past the minimum."
   ]
  },
  {
   "cell_type": "code",
   "execution_count": null,
   "id": "0762e3d0",
   "metadata": {},
   "outputs": [],
   "source": []
  }
 ],
 "metadata": {
  "kernelspec": {
   "display_name": "Python 3 (ipykernel)",
   "language": "python",
   "name": "python3"
  },
  "language_info": {
   "codemirror_mode": {
    "name": "ipython",
    "version": 3
   },
   "file_extension": ".py",
   "mimetype": "text/x-python",
   "name": "python",
   "nbconvert_exporter": "python",
   "pygments_lexer": "ipython3",
   "version": "3.9.7"
  }
 },
 "nbformat": 4,
 "nbformat_minor": 5
}
