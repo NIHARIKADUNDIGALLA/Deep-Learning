{
 "cells": [
  {
   "cell_type": "raw",
   "id": "16ed7680",
   "metadata": {},
   "source": [
    "1)What are the main difficulties when training RNNs?\n",
    "Ans:RNN is hard to train because of the gradient problem. RNNs suffer from the problem of vanishing gradients."
   ]
  },
  {
   "cell_type": "raw",
   "id": "4b33d956",
   "metadata": {},
   "source": [
    "2)Which neural network architecture could you use to classify videos?\n",
    "Ans:Convolutional Neural Network and a Recurrent Neural Network ."
   ]
  },
  {
   "cell_type": "raw",
   "id": "ac7d316a",
   "metadata": {},
   "source": [
    "3)Can you think of a few applications for a sequence-to-sequence RNN? \n",
    "Ans:speech recognition, machine translation, image captioning and question answering."
   ]
  },
  {
   "cell_type": "code",
   "execution_count": null,
   "id": "9fdd0389",
   "metadata": {},
   "outputs": [],
   "source": []
  }
 ],
 "metadata": {
  "kernelspec": {
   "display_name": "Python 3 (ipykernel)",
   "language": "python",
   "name": "python3"
  },
  "language_info": {
   "codemirror_mode": {
    "name": "ipython",
    "version": 3
   },
   "file_extension": ".py",
   "mimetype": "text/x-python",
   "name": "python",
   "nbconvert_exporter": "python",
   "pygments_lexer": "ipython3",
   "version": "3.9.7"
  }
 },
 "nbformat": 4,
 "nbformat_minor": 5
}
