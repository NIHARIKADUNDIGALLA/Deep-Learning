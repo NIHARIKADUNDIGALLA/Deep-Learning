{
 "cells": [
  {
   "cell_type": "raw",
   "id": "05a7c6ac",
   "metadata": {},
   "source": [
    "1)What is a fully convolutional network?\n",
    "Ans:It is a neural network that only performs convolution operations."
   ]
  },
  {
   "cell_type": "raw",
   "id": "3178fccd",
   "metadata": {},
   "source": [
    "2)What are the advantages of a CNN over a fully connected DNN for image classification?\n",
    "Ans:Convolutional neural networks minimize computation in comparison with a regular neural network.\n",
    "    CNNs do not require human supervision for the task of identifying important features. \n",
    "    "
   ]
  },
  {
   "cell_type": "raw",
   "id": "55ebc2ae",
   "metadata": {},
   "source": [
    "3)When would you want to add a local response normalization layer?\n",
    "Ans:It is useful when we are dealing with ReLU neurons. ReLU neurons have unbounded activations, and we need local response normalization to normalize them."
   ]
  },
  {
   "cell_type": "code",
   "execution_count": null,
   "id": "f489d342",
   "metadata": {},
   "outputs": [],
   "source": []
  }
 ],
 "metadata": {
  "kernelspec": {
   "display_name": "Python 3 (ipykernel)",
   "language": "python",
   "name": "python3"
  },
  "language_info": {
   "codemirror_mode": {
    "name": "ipython",
    "version": 3
   },
   "file_extension": ".py",
   "mimetype": "text/x-python",
   "name": "python",
   "nbconvert_exporter": "python",
   "pygments_lexer": "ipython3",
   "version": "3.9.7"
  }
 },
 "nbformat": 4,
 "nbformat_minor": 5
}
