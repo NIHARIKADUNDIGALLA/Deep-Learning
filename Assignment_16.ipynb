{
 "cells": [
  {
   "cell_type": "raw",
   "id": "7f11a771",
   "metadata": {},
   "source": [
    "1)What happens when you increase the size of batch computation?\n",
    "Ans:Larger batch sizes result in faster progress in training, but don't always converge as fast."
   ]
  },
  {
   "cell_type": "raw",
   "id": "80e10d78",
   "metadata": {},
   "source": [
    "2)Why we adopt regularization to avoid overfitting?\n",
    "Ans:This technique discourages learning a more complex or flexible model, avoiding the risk of Overfitting."
   ]
  },
  {
   "cell_type": "raw",
   "id": "e5334099",
   "metadata": {},
   "source": [
    "3)What are loss and cost functions in deep learning?\n",
    "Ans:Loss function is sed when we refer to the error for a single training example. \n",
    "Cost function is used to refer to an average of the loss functions over an entire training dataset."
   ]
  },
  {
   "cell_type": "raw",
   "id": "a1d0ffdd",
   "metadata": {},
   "source": [
    "4)What do ou mean by underfitting in neural networks?\n",
    "Ans:Your model is underfitting the training data when the model performs poorly on the training data. \n",
    "    This is because the model is unable to capture the relationship between the input and the target values.\n"
   ]
  }
 ],
 "metadata": {
  "kernelspec": {
   "display_name": "Python 3 (ipykernel)",
   "language": "python",
   "name": "python3"
  },
  "language_info": {
   "codemirror_mode": {
    "name": "ipython",
    "version": 3
   },
   "file_extension": ".py",
   "mimetype": "text/x-python",
   "name": "python",
   "nbconvert_exporter": "python",
   "pygments_lexer": "ipython3",
   "version": "3.9.7"
  }
 },
 "nbformat": 4,
 "nbformat_minor": 5
}
