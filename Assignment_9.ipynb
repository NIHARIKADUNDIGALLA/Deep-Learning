{
 "cells": [
  {
   "cell_type": "raw",
   "id": "1516d592",
   "metadata": {},
   "source": [
    "1)What are the main tasks that autoencoders are used for?\n",
    "Ans:Autoencoders are used to help reduce the noise in data. Through the process of compressing input data, encoding it,\n",
    "    and then reconstructing it as an output, autoencoders allow you to reduce dimensionality and focus only on areas\n",
    "    of real value."
   ]
  },
  {
   "cell_type": "raw",
   "id": "69dae49b",
   "metadata": {},
   "source": [
    "2)What is a GAN?\n",
    "Ans:A generative adversarial network (GAN) is a machine learning (ML) model in which two neural networks compete\n",
    "    with each other by using deep learning methods to become more accurate in their predictions."
   ]
  },
  {
   "cell_type": "raw",
   "id": "b7efe409",
   "metadata": {},
   "source": [
    "3)What are the main difficulties when training GANs?\n",
    "Ans: mode collapse, non-convergence, and instability."
   ]
  },
  {
   "cell_type": "raw",
   "id": "8ad0eb10",
   "metadata": {},
   "source": [
    "4)What is a generative model?\n",
    "Ans:Generative modeling is used in unsupervised machine learning as a means to describe phenomena in data, enabling \n",
    "    computers to understand the real world"
   ]
  }
 ],
 "metadata": {
  "kernelspec": {
   "display_name": "Python 3 (ipykernel)",
   "language": "python",
   "name": "python3"
  },
  "language_info": {
   "codemirror_mode": {
    "name": "ipython",
    "version": 3
   },
   "file_extension": ".py",
   "mimetype": "text/x-python",
   "name": "python",
   "nbconvert_exporter": "python",
   "pygments_lexer": "ipython3",
   "version": "3.9.7"
  }
 },
 "nbformat": 4,
 "nbformat_minor": 5
}
