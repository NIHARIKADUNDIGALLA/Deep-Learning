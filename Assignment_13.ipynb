{
 "cells": [
  {
   "cell_type": "raw",
   "id": "240eaf92",
   "metadata": {},
   "source": [
    "1)Name three popular activation functions.\n",
    "Ans:Linear , sigmoid , ReLU."
   ]
  },
  {
   "cell_type": "raw",
   "id": "74520d19",
   "metadata": {},
   "source": [
    "2)What is backpropagation and how does it work? \n",
    "Ans:It is designed to test for errors working back from output nodes to input nodes."
   ]
  },
  {
   "cell_type": "raw",
   "id": "db0f6f19",
   "metadata": {},
   "source": [
    "3)Why was the logistic activation function a key ingredient in training the first MLPs?\n",
    "Ans:As its derivative is always nonzero, so Gradient Descent can always roll down the slope"
   ]
  },
  {
   "cell_type": "code",
   "execution_count": null,
   "id": "d9dfbaa8",
   "metadata": {},
   "outputs": [],
   "source": []
  }
 ],
 "metadata": {
  "kernelspec": {
   "display_name": "Python 3 (ipykernel)",
   "language": "python",
   "name": "python3"
  },
  "language_info": {
   "codemirror_mode": {
    "name": "ipython",
    "version": 3
   },
   "file_extension": ".py",
   "mimetype": "text/x-python",
   "name": "python",
   "nbconvert_exporter": "python",
   "pygments_lexer": "ipython3",
   "version": "3.9.7"
  }
 },
 "nbformat": 4,
 "nbformat_minor": 5
}
