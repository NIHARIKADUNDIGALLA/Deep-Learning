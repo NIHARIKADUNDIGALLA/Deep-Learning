{
 "cells": [
  {
   "cell_type": "raw",
   "id": "9320ed73",
   "metadata": {},
   "source": [
    "1)Why would you want to use the Data API?\n",
    "Ans:APIs are needed to bring applications together in order to perform a designed function built around sharing data \n",
    "    and executing pre-defined processes."
   ]
  },
  {
   "cell_type": "raw",
   "id": "aa219827",
   "metadata": {},
   "source": [
    "2)What are the benefits of splitting a large dataset into multiple files?\n",
    "Ans:It helps ensure the creation of data models and processes that use data models which  are accurate."
   ]
  }
 ],
 "metadata": {
  "kernelspec": {
   "display_name": "Python 3 (ipykernel)",
   "language": "python",
   "name": "python3"
  },
  "language_info": {
   "codemirror_mode": {
    "name": "ipython",
    "version": 3
   },
   "file_extension": ".py",
   "mimetype": "text/x-python",
   "name": "python",
   "nbconvert_exporter": "python",
   "pygments_lexer": "ipython3",
   "version": "3.9.7"
  }
 },
 "nbformat": 4,
 "nbformat_minor": 5
}
