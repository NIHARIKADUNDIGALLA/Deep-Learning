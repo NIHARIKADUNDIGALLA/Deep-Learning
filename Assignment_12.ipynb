{
 "cells": [
  {
   "cell_type": "raw",
   "id": "eadc3c9a",
   "metadata": {},
   "source": [
    "1)What are the three rules of Einstein summation notation?\n",
    "Ans:Each index can appear at most twice in any term. \n",
    "    Repeated indices are implicitly summed over. \n",
    "    Each term must contain identical non-repeated indices."
   ]
  },
  {
   "cell_type": "raw",
   "id": "8b5925f1",
   "metadata": {},
   "source": [
    "2)What are the forward pass and backward pass of a neural network?\n",
    "Ans:In the forward pass, we start by propagating the data inputs to the input layer, go through the hidden layer(s), \n",
    "measure the network's predictions from the output layer, and finally calculate the network error based on the \n",
    "predictions the network made.\n",
    "\n",
    "The process starts at the output node and systematically progresses backward through the layers all the way to the input layer and hence the name backpropagation ."
   ]
  },
  {
   "cell_type": "raw",
   "id": "e4c27db9",
   "metadata": {},
   "source": [
    "3)How can weight initialization help avoid this problem?\n",
    "Ans:Weight initialization of neural networks for faster convergence and better overall performance."
   ]
  },
  {
   "cell_type": "code",
   "execution_count": null,
   "id": "fe783270",
   "metadata": {},
   "outputs": [],
   "source": []
  }
 ],
 "metadata": {
  "kernelspec": {
   "display_name": "Python 3 (ipykernel)",
   "language": "python",
   "name": "python3"
  },
  "language_info": {
   "codemirror_mode": {
    "name": "ipython",
    "version": 3
   },
   "file_extension": ".py",
   "mimetype": "text/x-python",
   "name": "python",
   "nbconvert_exporter": "python",
   "pygments_lexer": "ipython3",
   "version": "3.9.7"
  }
 },
 "nbformat": 4,
 "nbformat_minor": 5
}
