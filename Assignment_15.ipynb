{
 "cells": [
  {
   "cell_type": "raw",
   "id": "767504fd",
   "metadata": {},
   "source": [
    "1) Explain the tanh , ReLU Activation Functions in your own language?\n",
    "Ans:Tanh Activation is an activation function used for neural networks.The tanh function became preferred over the \n",
    "    sigmoid function as it gave better performance for multi-layer neural networks.\n",
    "    The Rectified Linear Unit is the most commonly used activation function in deep learning models. \n",
    "    The function returns 0 if it receives any negative input, but for any positive value x it returns that value back."
   ]
  },
  {
   "cell_type": "raw",
   "id": "41e030e0",
   "metadata": {},
   "source": [
    "2)What happens when you increase or decrease the optimizer learning rate?\n",
    "Ans:Smaller learning rates necessitate more training epochs because of the fewer changes. On the other hand, larger\n",
    "    learning rates result in faster changes."
   ]
  },
  {
   "cell_type": "raw",
   "id": "fcf83844",
   "metadata": {},
   "source": [
    "3)What happens when you increase the number of internal hidden neurons?\n",
    "Ans:Increases performance and accuracy  of model . "
   ]
  }
 ],
 "metadata": {
  "kernelspec": {
   "display_name": "Python 3 (ipykernel)",
   "language": "python",
   "name": "python3"
  },
  "language_info": {
   "codemirror_mode": {
    "name": "ipython",
    "version": 3
   },
   "file_extension": ".py",
   "mimetype": "text/x-python",
   "name": "python",
   "nbconvert_exporter": "python",
   "pygments_lexer": "ipython3",
   "version": "3.9.7"
  }
 },
 "nbformat": 4,
 "nbformat_minor": 5
}
