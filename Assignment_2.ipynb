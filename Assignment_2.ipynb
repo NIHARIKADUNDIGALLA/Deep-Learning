{
 "cells": [
  {
   "cell_type": "raw",
   "id": "8db13c78",
   "metadata": {},
   "source": [
    "1)What are the different types of activation functions popularly used?\n",
    "Ans:ReLU , sigmoid , linear activation function."
   ]
  },
  {
   "cell_type": "raw",
   "id": "4b12c427",
   "metadata": {},
   "source": [
    "2)Write a short note on Learning rate?\n",
    "Ans:The learning rate controls how quickly the model is adapted to the problem."
   ]
  },
  {
   "cell_type": "raw",
   "id": "f5158db2",
   "metadata": {},
   "source": [
    "3)Difference between Single layer vs multi-layer perceptron?\n",
    "Ans: A single-layer perceptron can only learn linear functions, but Multilayered Perceptrons can also learn non-linear functions.\n"
   ]
  }
 ],
 "metadata": {
  "kernelspec": {
   "display_name": "Python 3 (ipykernel)",
   "language": "python",
   "name": "python3"
  },
  "language_info": {
   "codemirror_mode": {
    "name": "ipython",
    "version": 3
   },
   "file_extension": ".py",
   "mimetype": "text/x-python",
   "name": "python",
   "nbconvert_exporter": "python",
   "pygments_lexer": "ipython3",
   "version": "3.9.7"
  }
 },
 "nbformat": 4,
 "nbformat_minor": 5
}
