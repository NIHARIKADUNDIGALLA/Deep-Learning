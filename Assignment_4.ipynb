{
 "cells": [
  {
   "cell_type": "raw",
   "id": "fc0972f4",
   "metadata": {},
   "source": [
    "1)How would you describe TensorFlow in a short sentence? \n",
    "Ans:TensorFlow is a software library or framework, designed by the Google team to implement machine learning and deep learning concepts in the easiest manner."
   ]
  },
  {
   "cell_type": "raw",
   "id": "9de2d57b",
   "metadata": {},
   "source": [
    "2)What are its main features of tensorflow?\n",
    "Ans:It includes a feature of that defines, optimizes and calculates mathematical expressions easily with the help of\n",
    "multi-dimensional arrays called tensors.\n",
    "It includes a programming support of deep neural networks and machine learning techniques.\n",
    "It includes a high scalable feature of computation with various data sets."
   ]
  },
  {
   "cell_type": "raw",
   "id": "bc29fd5d",
   "metadata": {},
   "source": [
    "3)When should you create a custom layer versus a custom model?\n",
    "Ans:If you are building a new model architecture using existing keras/tf layers then build a custom model. If you are implementing your own custom tensor operations with in a layer, then build a custom layer."
   ]
  }
 ],
 "metadata": {
  "kernelspec": {
   "display_name": "Python 3 (ipykernel)",
   "language": "python",
   "name": "python3"
  },
  "language_info": {
   "codemirror_mode": {
    "name": "ipython",
    "version": 3
   },
   "file_extension": ".py",
   "mimetype": "text/x-python",
   "name": "python",
   "nbconvert_exporter": "python",
   "pygments_lexer": "ipython3",
   "version": "3.9.7"
  }
 },
 "nbformat": 4,
 "nbformat_minor": 5
}
