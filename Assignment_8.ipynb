{
 "cells": [
  {
   "cell_type": "raw",
   "id": "3e469077",
   "metadata": {},
   "source": [
    "1)What is an attention mechanism? How does it help?\n",
    "Ans:The attention mechanism was to permit the decoder to utilize the most relevant parts of the input sequence in a \n",
    "    flexible manner, by a weighted combination of all the encoded input vectors, with the most relevant vectors being \n",
    "    attributed the highest weights."
   ]
  },
  {
   "cell_type": "raw",
   "id": "d585ae23",
   "metadata": {},
   "source": [
    "2)When would you need to use sampled softmax?\n",
    "Ans:When the number of classes becomes too large."
   ]
  },
  {
   "cell_type": "raw",
   "id": "1679b9b3",
   "metadata": {},
   "source": [
    "3)What is the most important layer in the Transformer architecture? \n",
    "Ans:The most important part is the Residual Connections around the layers."
   ]
  }
 ],
 "metadata": {
  "kernelspec": {
   "display_name": "Python 3 (ipykernel)",
   "language": "python",
   "name": "python3"
  },
  "language_info": {
   "codemirror_mode": {
    "name": "ipython",
    "version": 3
   },
   "file_extension": ".py",
   "mimetype": "text/x-python",
   "name": "python",
   "nbconvert_exporter": "python",
   "pygments_lexer": "ipython3",
   "version": "3.9.7"
  }
 },
 "nbformat": 4,
 "nbformat_minor": 5
}
