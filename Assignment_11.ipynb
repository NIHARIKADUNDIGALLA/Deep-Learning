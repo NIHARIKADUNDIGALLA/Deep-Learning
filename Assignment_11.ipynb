{
 "cells": [
  {
   "cell_type": "raw",
   "id": "50ac831a",
   "metadata": {},
   "source": [
    "1)What are the broadcasting rules?\n",
    "Ans:All the input arrays have the same shape.\n",
    "Arrays have the same number of dimensions, and the length of each dimension is either a common length or 1.\n",
    "Array with the fewer dimension can be appended with '1' in its shape."
   ]
  },
  {
   "cell_type": "raw",
   "id": "1963fef2",
   "metadata": {},
   "source": [
    "2)What is the “hidden size” of a layer?\n",
    "Ans:Hidden size is number of features of the hidden state for RNN."
   ]
  },
  {
   "cell_type": "raw",
   "id": "9e9dbafd",
   "metadata": {},
   "source": [
    "3)What is elementwise arithmetic?\n",
    "Ans:Each pair of elements in corresponding locations are added together to produce a new tensor of the same shape. So, addition is an element-wise operation."
   ]
  }
 ],
 "metadata": {
  "kernelspec": {
   "display_name": "Python 3 (ipykernel)",
   "language": "python",
   "name": "python3"
  },
  "language_info": {
   "codemirror_mode": {
    "name": "ipython",
    "version": 3
   },
   "file_extension": ".py",
   "mimetype": "text/x-python",
   "name": "python",
   "nbconvert_exporter": "python",
   "pygments_lexer": "ipython3",
   "version": "3.9.7"
  }
 },
 "nbformat": 4,
 "nbformat_minor": 5
}
