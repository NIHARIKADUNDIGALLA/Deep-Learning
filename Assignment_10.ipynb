{
 "cells": [
  {
   "cell_type": "raw",
   "id": "c6609454",
   "metadata": {},
   "source": [
    "1)What is quantization-aware training, and why would you need it?\n",
    "Ans:Quantization aware training emulates inference-time quantization, creating a model that downstream tools will use \n",
    "    to produce actually quantized models. The quantized models use lower-precision, leading to benefits during \n",
    "    deployment."
   ]
  },
  {
   "cell_type": "raw",
   "id": "9e333820",
   "metadata": {},
   "source": [
    "2)What are model parallelism?\n",
    "Ans:In model parallelism, every model is partitioned into 'N' parts, just like data parallelism, where 'N' is\n",
    "    the number of GPUs. Each model is then placed on an individual GPU. The batch of GPUs is then calculated sequentially."
   ]
  },
  {
   "cell_type": "raw",
   "id": "14a171c8",
   "metadata": {},
   "source": [
    "3)What is data parallelism?\n",
    "Ans:Data parallelism refers to scenarios in which the same operation is performed concurrently on elements in a source\n",
    "    collection or array."
   ]
  }
 ],
 "metadata": {
  "kernelspec": {
   "display_name": "Python 3 (ipykernel)",
   "language": "python",
   "name": "python3"
  },
  "language_info": {
   "codemirror_mode": {
    "name": "ipython",
    "version": 3
   },
   "file_extension": ".py",
   "mimetype": "text/x-python",
   "name": "python",
   "nbconvert_exporter": "python",
   "pygments_lexer": "ipython3",
   "version": "3.9.7"
  }
 },
 "nbformat": 4,
 "nbformat_minor": 5
}
